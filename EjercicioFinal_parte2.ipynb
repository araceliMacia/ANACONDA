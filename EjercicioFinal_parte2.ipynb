{
 "cells": [
  {
   "cell_type": "markdown",
   "metadata": {},
   "source": [
    "## Parte 2 de Prueba de evaluación\n",
    "\n",
    "Realizado por Araceli Macía Barrado\n",
    "\n",
    "\n",
    "\n",
    "En esta segunda parte trabajaremos con un dataset de R que describe las características físicas de un conjunto de diamantes. Puede cargarse mediante get_rdataset(), y está en el paquete \"ggplot2\" con nombre \"diamonds\".\n",
    "\n",
    "\n",
    "http://hamelg.blogspot.com.es/2015/11/python-for-data-analysis-part-19.html\n",
    "\n",
    "http://hamelg.blogspot.com.es/2015/11/python-for-data-analysis-part-21.html > Medidas general.\n",
    "\n",
    "http://pybonacci.org/2012/05/25/manual-de-introduccion-a-matplotlib-pyplot-iii-configuracion-del-grafico/"
   ]
  },
  {
   "cell_type": "code",
   "execution_count": 1,
   "metadata": {
    "collapsed": false,
    "scrolled": true
   },
   "outputs": [
    {
     "name": "stdout",
     "output_type": "stream",
     "text": [
      "+------------+-------------------+\n",
      "| diamonds   | R Documentation   |\n",
      "+------------+-------------------+\n",
      "\n",
      "Prices of 50,000 round cut diamonds\n",
      "-----------------------------------\n",
      "\n",
      "Description\n",
      "~~~~~~~~~~~\n",
      "\n",
      "A dataset containing the prices and other attributes of almost 54,000\n",
      "diamonds. The variables are as follows:\n",
      "\n",
      "Usage\n",
      "~~~~~\n",
      "\n",
      "::\n",
      "\n",
      "    data(diamonds)\n",
      "\n",
      "Format\n",
      "~~~~~~\n",
      "\n",
      "A data frame with 53940 rows and 10 variables\n",
      "\n",
      "Details\n",
      "~~~~~~~\n",
      "\n",
      "-  price. price in US dollars (\\\\$326–\\\\$18,823)\n",
      "\n",
      "-  carat. weight of the diamond (0.2–5.01)\n",
      "\n",
      "-  cut. quality of the cut (Fair, Good, Very Good, Premium, Ideal)\n",
      "\n",
      "-  colour. diamond colour, from J (worst) to D (best)\n",
      "\n",
      "-  clarity. a measurement of how clear the diamond is (I1 (worst), SI1,\n",
      "   SI2, VS1, VS2, VVS1, VVS2, IF (best))\n",
      "\n",
      "-  x. length in mm (0–10.74)\n",
      "\n",
      "-  y. width in mm (0–58.9)\n",
      "\n",
      "-  z. depth in mm (0–31.8)\n",
      "\n",
      "-  depth. total depth percentage = z / mean(x, y) = 2 \\* z / (x + y)\n",
      "   (43–79)\n",
      "\n",
      "-  table. width of top of diamond relative to widest point (43–95)\n",
      "\n",
      "\n",
      "\n"
     ]
    },
    {
     "data": {
      "text/html": [
       "<div>\n",
       "<table border=\"1\" class=\"dataframe\">\n",
       "  <thead>\n",
       "    <tr style=\"text-align: right;\">\n",
       "      <th></th>\n",
       "      <th>carat</th>\n",
       "      <th>cut</th>\n",
       "      <th>color</th>\n",
       "      <th>clarity</th>\n",
       "      <th>depth</th>\n",
       "      <th>table</th>\n",
       "      <th>price</th>\n",
       "      <th>x</th>\n",
       "      <th>y</th>\n",
       "      <th>z</th>\n",
       "    </tr>\n",
       "  </thead>\n",
       "  <tbody>\n",
       "    <tr>\n",
       "      <th>0</th>\n",
       "      <td>0.23</td>\n",
       "      <td>Ideal</td>\n",
       "      <td>E</td>\n",
       "      <td>SI2</td>\n",
       "      <td>61.5</td>\n",
       "      <td>55.0</td>\n",
       "      <td>326</td>\n",
       "      <td>3.95</td>\n",
       "      <td>3.98</td>\n",
       "      <td>2.43</td>\n",
       "    </tr>\n",
       "    <tr>\n",
       "      <th>1</th>\n",
       "      <td>0.21</td>\n",
       "      <td>Premium</td>\n",
       "      <td>E</td>\n",
       "      <td>SI1</td>\n",
       "      <td>59.8</td>\n",
       "      <td>61.0</td>\n",
       "      <td>326</td>\n",
       "      <td>3.89</td>\n",
       "      <td>3.84</td>\n",
       "      <td>2.31</td>\n",
       "    </tr>\n",
       "    <tr>\n",
       "      <th>2</th>\n",
       "      <td>0.23</td>\n",
       "      <td>Good</td>\n",
       "      <td>E</td>\n",
       "      <td>VS1</td>\n",
       "      <td>56.9</td>\n",
       "      <td>65.0</td>\n",
       "      <td>327</td>\n",
       "      <td>4.05</td>\n",
       "      <td>4.07</td>\n",
       "      <td>2.31</td>\n",
       "    </tr>\n",
       "    <tr>\n",
       "      <th>3</th>\n",
       "      <td>0.29</td>\n",
       "      <td>Premium</td>\n",
       "      <td>I</td>\n",
       "      <td>VS2</td>\n",
       "      <td>62.4</td>\n",
       "      <td>58.0</td>\n",
       "      <td>334</td>\n",
       "      <td>4.20</td>\n",
       "      <td>4.23</td>\n",
       "      <td>2.63</td>\n",
       "    </tr>\n",
       "    <tr>\n",
       "      <th>4</th>\n",
       "      <td>0.31</td>\n",
       "      <td>Good</td>\n",
       "      <td>J</td>\n",
       "      <td>SI2</td>\n",
       "      <td>63.3</td>\n",
       "      <td>58.0</td>\n",
       "      <td>335</td>\n",
       "      <td>4.34</td>\n",
       "      <td>4.35</td>\n",
       "      <td>2.75</td>\n",
       "    </tr>\n",
       "  </tbody>\n",
       "</table>\n",
       "</div>"
      ],
      "text/plain": [
       "   carat      cut color clarity  depth  table  price     x     y     z\n",
       "0   0.23    Ideal     E     SI2   61.5   55.0    326  3.95  3.98  2.43\n",
       "1   0.21  Premium     E     SI1   59.8   61.0    326  3.89  3.84  2.31\n",
       "2   0.23     Good     E     VS1   56.9   65.0    327  4.05  4.07  2.31\n",
       "3   0.29  Premium     I     VS2   62.4   58.0    334  4.20  4.23  2.63\n",
       "4   0.31     Good     J     SI2   63.3   58.0    335  4.34  4.35  2.75"
      ]
     },
     "execution_count": 1,
     "metadata": {},
     "output_type": "execute_result"
    }
   ],
   "source": [
    "#from ggplot import diamonds\n",
    "import statsmodels.api as sm\n",
    "import pandas as pd\n",
    "import numpy as np\n",
    "\n",
    "diamonds = sm.datasets.get_rdataset(\"diamonds\",\"ggplot2\")\n",
    "print diamonds.__doc__\n",
    "MyDiamonds = diamonds.data\n",
    "MyDiamonds.head()"
   ]
  },
  {
   "cell_type": "markdown",
   "metadata": {},
   "source": [
    "• **Calcula los valores máximo, mínimo y medio de la variable carat.**"
   ]
  },
  {
   "cell_type": "code",
   "execution_count": 2,
   "metadata": {
    "collapsed": false
   },
   "outputs": [
    {
     "name": "stdout",
     "output_type": "stream",
     "text": [
      "*******\n",
      "count    53940.000000\n",
      "mean         0.797940\n",
      "std          0.474011\n",
      "min          0.200000\n",
      "25%          0.400000\n",
      "50%          0.700000\n",
      "75%          1.040000\n",
      "max          5.010000\n",
      "Name: carat, dtype: float64\n",
      "*******\n",
      "max es : 5.01\n",
      "min es : 0.2\n",
      "mean es : 0.797939747868\n",
      "desviacion tipica es : 0.47400685051\n"
     ]
    }
   ],
   "source": [
    "print \"*******\"\n",
    "print MyDiamonds.carat.describe()\n",
    "\n",
    "VarCarat = MyDiamonds[\"carat\"]\n",
    "\n",
    "maxCarat = VarCarat.values.max()\n",
    "minCarat = VarCarat.values.min()\n",
    "meanCarat = VarCarat.values.mean()\n",
    "desTipica=VarCarat.values.std()\n",
    "print \"*******\"\n",
    "\n",
    "print \"max es :\", maxCarat\n",
    "print \"min es :\",minCarat\n",
    "print \"mean es :\",meanCarat\n",
    "print \"desviacion tipica es :\",desTipica\n",
    "\n"
   ]
  },
  {
   "cell_type": "markdown",
   "metadata": {
    "collapsed": true
   },
   "source": [
    "* **Dibuja su histograma y sobre el mismo gráfico, el histograma de una muestra aleatoria\n",
    "del mismo tamaño con puntos obtenidos de una distribución gamma con la misma media y desviación típica. Haz que la visualización sea más adecuada haciendo transparente uno de los histogramas utilizando el parámetro alpha.**"
   ]
  },
  {
   "cell_type": "code",
   "execution_count": 3,
   "metadata": {
    "collapsed": false
   },
   "outputs": [
    {
     "data": {
      "image/png": "[encoded data removed]",
      "text/plain": [
       "<matplotlib.figure.Figure at 0x1136ac250>"
      ]
     },
     "metadata": {},
     "output_type": "display_data"
    }
   ],
   "source": [
    "import matplotlib.pyplot as plt\n",
    "\n",
    "%matplotlib inline\n",
    "\n",
    "r = np.random.gamma(meanCarat, desTipica, MyDiamonds.carat.size)\n",
    "#plt.title=\"histogramas\"\n",
    "plt.hist(MyDiamonds.carat, bins=50, color=\"red\", label=\"carat\")\n",
    "plt.hist(r, bins=25,alpha=0.6,color=\"blue\", label=\"gamma\")\n",
    "\n",
    "plt.show()\n"
   ]
  },
  {
   "cell_type": "markdown",
   "metadata": {},
   "source": [
    "* **Utilizando matplotlib, dibuja la nube de puntos de carat contra el precio, con ambos ejes en escala logarítmica.**"
   ]
  },
  {
   "cell_type": "code",
   "execution_count": 4,
   "metadata": {
    "collapsed": false
   },
   "outputs": [
    {
     "data": {
      "image/png": "[encoded data removed]",
      "text/plain": [
       "<matplotlib.figure.Figure at 0x103f0ba10>"
      ]
     },
     "metadata": {},
     "output_type": "display_data"
    }
   ],
   "source": [
    "\n",
    "plt.semilogx()\n",
    "plt.semilogy()\n",
    "plt.xlabel=\"aa\"\n",
    "plt.plot(MyDiamonds.carat, MyDiamonds.price, 'o', label='Nube puntos', markersize=4)\n",
    "plt.show()"
   ]
  },
  {
   "cell_type": "markdown",
   "metadata": {},
   "source": [
    "* **Ahora repite el gráfico pero utiliza solo los datos cuyo color sea \"E\" y su claridad sea \"SI1\"**\n"
   ]
  },
  {
   "cell_type": "code",
   "execution_count": 5,
   "metadata": {
    "collapsed": false
   },
   "outputs": [
    {
     "name": "stdout",
     "output_type": "stream",
     "text": [
      "   carat    cut color clarity  depth  table  price     x     y     z\n",
      "0   0.23  Ideal     E     SI2   61.5   55.0    326  3.95  3.98  2.43\n",
      "   carat      cut color clarity  depth  table  price     x     y     z\n",
      "1   0.21  Premium     E     SI1   59.8   61.0    326  3.89  3.84  2.31\n"
     ]
    },
    {
     "data": {
      "image/png": "[encoded data removed]",
      "text/plain": [
       "<matplotlib.figure.Figure at 0x103f0bd50>"
      ]
     },
     "metadata": {},
     "output_type": "display_data"
    }
   ],
   "source": [
    "print MyDiamonds.head(1)\n",
    "Filtro = MyDiamonds[MyDiamonds.color==\"E\"]\n",
    "Filtro =  Filtro[Filtro.clarity==\"SI1\"]\n",
    "print Filtro.head(1)\n",
    "plt.semilogx()\n",
    "plt.semilogy()\n",
    "plt.xlabel=\"aa\"\n",
    "plt.plot(Filtro.carat, Filtro.price, 'o', label='Nube puntos', markersize=4)\n",
    "plt.show()\n"
   ]
  },
  {
   "cell_type": "markdown",
   "metadata": {},
   "source": [
    "* **Investiga con un gráfico la relación entre el volumen (que puedes aproximar a partir de x, y, z) y el precio, de nuevo en escala logarítmica.**"
   ]
  },
  {
   "cell_type": "code",
   "execution_count": 6,
   "metadata": {
    "collapsed": false
   },
   "outputs": [
    {
     "data": {
      "text/plain": [
       "[<matplotlib.lines.Line2D at 0x11bb2a150>]"
      ]
     },
     "execution_count": 6,
     "metadata": {},
     "output_type": "execute_result"
    },
    {
     "data": {
      "image/png": "[encoded data removed]",
      "text/plain": [
       "<matplotlib.figure.Figure at 0x113672750>"
      ]
     },
     "metadata": {},
     "output_type": "display_data"
    }
   ],
   "source": [
    "volDiamond=MyDiamonds.x * MyDiamonds.y * MyDiamonds.z\n",
    "MyDiamonds[\"volum\"]=volDiamond\n",
    "plt.semilogx()\n",
    "plt.semilogy()\n",
    "#Voy a realizar un diagrama de puntos para ver su relacion.\n",
    "\n",
    "plt.plot(MyDiamonds.volum, MyDiamonds.price, 'o', label='Nube puntos', markersize=4)\n"
   ]
  },
  {
   "cell_type": "markdown",
   "metadata": {},
   "source": [
    "* **Utilizando scipy.stats, comprueba si se la relación anterior ajusta bien a un modelo de regresión lineal, tomando solo los 1000 primeros valores del dataset.**"
   ]
  },
  {
   "cell_type": "code",
   "execution_count": 7,
   "metadata": {
    "collapsed": false
   },
   "outputs": [
    {
     "name": "stdout",
     "output_type": "stream",
     "text": [
      "                            OLS Regression Results                            \n",
      "==============================================================================\n",
      "Dep. Variable:                  price   R-squared:                       0.974\n",
      "Model:                            OLS   Adj. R-squared:                  0.974\n",
      "Method:                 Least Squares   F-statistic:                 3.720e+04\n",
      "Date:                Wed, 13 Jul 2016   Prob (F-statistic):               0.00\n",
      "Time:                        18:24:55   Log-Likelihood:                -7466.0\n",
      "No. Observations:                1000   AIC:                         1.493e+04\n",
      "Df Residuals:                     999   BIC:                         1.494e+04\n",
      "Df Model:                           1                                         \n",
      "Covariance Type:            nonrobust                                         \n",
      "==============================================================================\n",
      "                 coef    std err          t      P>|t|      [95.0% Conf. Int.]\n",
      "------------------------------------------------------------------------------\n",
      "volum         22.1492      0.115    192.871      0.000        21.924    22.375\n",
      "==============================================================================\n",
      "Omnibus:                       57.682   Durbin-Watson:                   1.169\n",
      "Prob(Omnibus):                  0.000   Jarque-Bera (JB):               66.875\n",
      "Skew:                          -0.593   Prob(JB):                     3.01e-15\n",
      "Kurtosis:                       3.447   Cond. No.                         1.00\n",
      "==============================================================================\n",
      "\n",
      "Warnings:\n",
      "[1] Standard Errors assume that the covariance matrix of the errors is correctly specified.\n",
      "volum    22.149241\n",
      "dtype: float64\n",
      "0.973847047977\n"
     ]
    }
   ],
   "source": [
    "import statsmodels.formula.api as smf\n",
    "import statsmodels.api as sm\n",
    "\n",
    "filtro=MyDiamonds.head(1000)\n",
    "y = filtro['price']\n",
    "X = filtro['volum']\n",
    "mod2 = sm.OLS(y,X)\n",
    "res = mod2.fit()\n",
    "print (res.summary())\n",
    "print res.params\n",
    "print res.rsquared\n"
   ]
  },
  {
   "cell_type": "markdown",
   "metadata": {},
   "source": [
    "<font color=green>Ajusta perfectamente a un modelo de regresion lineal, ya que como vemos, R-squared tiene un valor muy cercano a 1. </font>"
   ]
  },
  {
   "cell_type": "markdown",
   "metadata": {},
   "source": [
    "* **Utilizando seaborn, representa la nube de puntos del precio contra el carat y asociando al diagrama las distribuciones de las dos variables.**"
   ]
  },
  {
   "cell_type": "code",
   "execution_count": 8,
   "metadata": {
    "collapsed": false
   },
   "outputs": [
    {
     "data": {
      "text/plain": [
       "<seaborn.axisgrid.JointGrid at 0x11c12c2d0>"
      ]
     },
     "execution_count": 8,
     "metadata": {},
     "output_type": "execute_result"
    },
    {
     "data": {
      "image/png": "[encoded data removed]",
      "text/plain": [
       "<matplotlib.figure.Figure at 0x11c12c3d0>"
      ]
     },
     "metadata": {},
     "output_type": "display_data"
    }
   ],
   "source": [
    "\n",
    "import statsmodels.api as sm\n",
    "import seaborn as sns  #se importa como sns. \n",
    "from scipy.stats import kendalltau\n",
    "sns.set(style=\"ticks\")\n",
    "\n",
    "sns.jointplot(MyDiamonds.carat, MyDiamonds.price, kind=\"hex\", stat_func=kendalltau, color=\"red\")\n"
   ]
  },
  {
   "cell_type": "markdown",
   "metadata": {},
   "source": [
    "• **Identifica con un comando los diferentes tipos de corte (cut).**"
   ]
  },
  {
   "cell_type": "code",
   "execution_count": 9,
   "metadata": {
    "collapsed": false
   },
   "outputs": [
    {
     "name": "stdout",
     "output_type": "stream",
     "text": [
      "['Ideal' 'Premium' 'Good' 'Very Good' 'Fair']\n"
     ]
    }
   ],
   "source": [
    "print (MyDiamonds[\"cut\"].unique())\n"
   ]
  },
  {
   "cell_type": "markdown",
   "metadata": {},
   "source": [
    "* **Comprueba si hay diferencias significativas en la media del precio para los de corte\n",
    "\"Ideal\" y \"Premium\" y el resto, tomando 1000 valores de cada (nótese que no se puede asumir que las muestras son de una distribución normal). Puedes investigar funciones lógicas vectorizadas en NumPy como logical_or().**"
   ]
  },
  {
   "cell_type": "code",
   "execution_count": 10,
   "metadata": {
    "collapsed": false
   },
   "outputs": [
    {
     "name": "stdout",
     "output_type": "stream",
     "text": [
      "compruebo cut:  ['Ideal' 'Premium']\n",
      "La media de los ideales  2573.572\n",
      "compruebo cut:  ['Good' 'Very Good' 'Fair']\n",
      "La media del resto  2692.669\n"
     ]
    }
   ],
   "source": [
    "Ideales=MyDiamonds[np.logical_or(MyDiamonds[\"cut\"]==\"Ideal\",MyDiamonds[\"cut\"]==\"Premium\" )].head(1000)\n",
    "print \"compruebo cut: \", Ideales.cut.unique()\n",
    "print \"La media de los ideales \" , Ideales.price.mean()\n",
    "\n",
    "Resto=MyDiamonds[np.logical_and(MyDiamonds[\"cut\"]!=\"Ideal\",MyDiamonds[\"cut\"]!=\"Premium\" )].head(1000)\n",
    "print \"compruebo cut: \", Resto.cut.unique()\n",
    "print \"La media del resto \" , Resto.price.mean()\n"
   ]
  },
  {
   "cell_type": "markdown",
   "metadata": {},
   "source": [
    "* **Obten la mediana del precio por cada valor de la claridad (clarity) y ordena los resultados de manera descendente.**"
   ]
  },
  {
   "cell_type": "code",
   "execution_count": 11,
   "metadata": {
    "collapsed": false
   },
   "outputs": [
    {
     "name": "stdout",
     "output_type": "stream",
     "text": [
      "['SI2' 'SI1' 'VS1' 'VS2' 'VVS2' 'VVS1' 'I1' 'IF']\n"
     ]
    }
   ],
   "source": [
    "print (MyDiamonds[\"clarity\"].unique())\n"
   ]
  },
  {
   "cell_type": "code",
   "execution_count": 12,
   "metadata": {
    "collapsed": false
   },
   "outputs": [
    {
     "name": "stdout",
     "output_type": "stream",
     "text": [
      "         carat    cut  color  depth  table  price      x      y      z  volum\n",
      "clarity                                                                      \n",
      "I1         741    741    741    741    741    741    741    741    741    741\n",
      "IF        1790   1790   1790   1790   1790   1790   1790   1790   1790   1790\n",
      "SI1      13065  13065  13065  13065  13065  13065  13065  13065  13065  13065\n",
      "SI2       9194   9194   9194   9194   9194   9194   9194   9194   9194   9194\n",
      "VS1       8171   8171   8171   8171   8171   8171   8171   8171   8171   8171\n",
      "VS2      12258  12258  12258  12258  12258  12258  12258  12258  12258  12258\n",
      "VVS1      3655   3655   3655   3655   3655   3655   3655   3655   3655   3655\n",
      "VVS2      5066   5066   5066   5066   5066   5066   5066   5066   5066   5066\n",
      "******************\n",
      "         price\n",
      "clarity       \n",
      "I1        3344\n",
      "IF        1080\n",
      "SI1       2822\n",
      "SI2       4072\n",
      "VS1       2005\n",
      "VS2       2054\n",
      "VVS1      1093\n",
      "VVS2      1311\n",
      "         price\n",
      "clarity       \n",
      "SI2       4072\n",
      "I1        3344\n",
      "SI1       2822\n",
      "VS2       2054\n",
      "VS1       2005\n",
      "VVS2      1311\n",
      "VVS1      1093\n",
      "IF        1080\n"
     ]
    }
   ],
   "source": [
    "byClarity = MyDiamonds.groupby(\"clarity\") #Agrupo por los valores de Clarity.\n",
    "print byClarity.count() \n",
    "print \"******************\" \n",
    "mediaCalculada= pd.DataFrame(byClarity.price.median() )          # obtengo la mediana por precio.\n",
    "print mediaCalculada\n",
    "print mediaCalculada.sort_values(['price'], ascending=[0]) #ordeno los valores de forma descendente."
   ]
  },
  {
   "cell_type": "code",
   "execution_count": null,
   "metadata": {
    "collapsed": true
   },
   "outputs": [],
   "source": []
  }
 ],
 "metadata": {
  "kernelspec": {
   "display_name": "Python 2",
   "language": "python",
   "name": "python2"
  },
  "language_info": {
   "codemirror_mode": {
    "name": "ipython",
    "version": 2
   },
   "file_extension": ".py",
   "mimetype": "text/x-python",
   "name": "python",
   "nbconvert_exporter": "python",
   "pygments_lexer": "ipython2",
   "version": "2.7.11"
  }
 },
 "nbformat": 4,
 "nbformat_minor": 0
}
